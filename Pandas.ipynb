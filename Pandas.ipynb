{
 "metadata": {
  "name": "",
  "signature": "sha256:cef9242f66a8b258b520b56668b9086e9682a821b42f738cf1af32e72ec76bb2"
 },
 "nbformat": 3,
 "nbformat_minor": 0,
 "worksheets": [
  {
   "cells": [
    {
     "cell_type": "code",
     "collapsed": false,
     "input": [
      "import pandas as pd"
     ],
     "language": "python",
     "metadata": {},
     "outputs": [],
     "prompt_number": 110
    },
    {
     "cell_type": "code",
     "collapsed": false,
     "input": [
      "import numpy as np"
     ],
     "language": "python",
     "metadata": {},
     "outputs": [],
     "prompt_number": 111
    },
    {
     "cell_type": "code",
     "collapsed": false,
     "input": [
      "import matplotlib.pyplot as plt"
     ],
     "language": "python",
     "metadata": {},
     "outputs": [],
     "prompt_number": 112
    },
    {
     "cell_type": "code",
     "collapsed": false,
     "input": [
      "s=pd.Series([1,3,5,np.nan,6,8]) #When you create a Series object pandas create a default index for Series object\n",
      "s"
     ],
     "language": "python",
     "metadata": {},
     "outputs": [
      {
       "metadata": {},
       "output_type": "pyout",
       "prompt_number": 7,
       "text": [
        "0     1\n",
        "1     3\n",
        "2     5\n",
        "3   NaN\n",
        "4     6\n",
        "5     8\n",
        "dtype: float64"
       ]
      }
     ],
     "prompt_number": 7
    },
    {
     "cell_type": "code",
     "collapsed": false,
     "input": [
      "dates=pd.date_range('20130101',periods=6)#Creating a DataFrame object by passing a numpy array\n",
      "dates\n",
      "df=pd.DataFrame(np.random.rand(6,4),index=dates,columns=list('ABCD'))\n",
      "df"
     ],
     "language": "python",
     "metadata": {},
     "outputs": [
      {
       "html": [
        "<div style=\"max-height:1000px;max-width:1500px;overflow:auto;\">\n",
        "<table border=\"1\" class=\"dataframe\">\n",
        "  <thead>\n",
        "    <tr style=\"text-align: right;\">\n",
        "      <th></th>\n",
        "      <th>A</th>\n",
        "      <th>B</th>\n",
        "      <th>C</th>\n",
        "      <th>D</th>\n",
        "    </tr>\n",
        "  </thead>\n",
        "  <tbody>\n",
        "    <tr>\n",
        "      <th>2013-01-01</th>\n",
        "      <td> 0.913728</td>\n",
        "      <td> 0.732959</td>\n",
        "      <td> 0.341203</td>\n",
        "      <td> 0.285260</td>\n",
        "    </tr>\n",
        "    <tr>\n",
        "      <th>2013-01-02</th>\n",
        "      <td> 0.459239</td>\n",
        "      <td> 0.020161</td>\n",
        "      <td> 0.761153</td>\n",
        "      <td> 0.381291</td>\n",
        "    </tr>\n",
        "    <tr>\n",
        "      <th>2013-01-03</th>\n",
        "      <td> 0.866140</td>\n",
        "      <td> 0.194305</td>\n",
        "      <td> 0.855781</td>\n",
        "      <td> 0.468772</td>\n",
        "    </tr>\n",
        "    <tr>\n",
        "      <th>2013-01-04</th>\n",
        "      <td> 0.722176</td>\n",
        "      <td> 0.967375</td>\n",
        "      <td> 0.587062</td>\n",
        "      <td> 0.155632</td>\n",
        "    </tr>\n",
        "    <tr>\n",
        "      <th>2013-01-05</th>\n",
        "      <td> 0.232301</td>\n",
        "      <td> 0.035282</td>\n",
        "      <td> 0.277799</td>\n",
        "      <td> 0.817466</td>\n",
        "    </tr>\n",
        "    <tr>\n",
        "      <th>2013-01-06</th>\n",
        "      <td> 0.084703</td>\n",
        "      <td> 0.019913</td>\n",
        "      <td> 0.921164</td>\n",
        "      <td> 0.481842</td>\n",
        "    </tr>\n",
        "  </tbody>\n",
        "</table>\n",
        "</div>"
       ],
       "metadata": {},
       "output_type": "pyout",
       "prompt_number": 9,
       "text": [
        "                   A         B         C         D\n",
        "2013-01-01  0.913728  0.732959  0.341203  0.285260\n",
        "2013-01-02  0.459239  0.020161  0.761153  0.381291\n",
        "2013-01-03  0.866140  0.194305  0.855781  0.468772\n",
        "2013-01-04  0.722176  0.967375  0.587062  0.155632\n",
        "2013-01-05  0.232301  0.035282  0.277799  0.817466\n",
        "2013-01-06  0.084703  0.019913  0.921164  0.481842"
       ]
      }
     ],
     "prompt_number": 9
    },
    {
     "cell_type": "code",
     "collapsed": false,
     "input": [
      "df2=pd.DataFrame({'A':1.,\n",
      "                  'B': pd.Timestamp('20130102'),\n",
      "                  'C':pd.Series(1,index=list(range(4)),dtype='float32'),\n",
      "                  'D':np.array([3]*4,dtype='int32'),\n",
      "                  'E':'foo'})"
     ],
     "language": "python",
     "metadata": {},
     "outputs": [],
     "prompt_number": 10
    },
    {
     "cell_type": "code",
     "collapsed": false,
     "input": [
      "df2 #Creating a DataFrame by passing a dict of objects that can be converted to series like."
     ],
     "language": "python",
     "metadata": {},
     "outputs": [
      {
       "html": [
        "<div style=\"max-height:1000px;max-width:1500px;overflow:auto;\">\n",
        "<table border=\"1\" class=\"dataframe\">\n",
        "  <thead>\n",
        "    <tr style=\"text-align: right;\">\n",
        "      <th></th>\n",
        "      <th>A</th>\n",
        "      <th>B</th>\n",
        "      <th>C</th>\n",
        "      <th>D</th>\n",
        "      <th>E</th>\n",
        "    </tr>\n",
        "  </thead>\n",
        "  <tbody>\n",
        "    <tr>\n",
        "      <th>0</th>\n",
        "      <td> 1</td>\n",
        "      <td>2013-01-02</td>\n",
        "      <td> 1</td>\n",
        "      <td> 3</td>\n",
        "      <td> foo</td>\n",
        "    </tr>\n",
        "    <tr>\n",
        "      <th>1</th>\n",
        "      <td> 1</td>\n",
        "      <td>2013-01-02</td>\n",
        "      <td> 1</td>\n",
        "      <td> 3</td>\n",
        "      <td> foo</td>\n",
        "    </tr>\n",
        "    <tr>\n",
        "      <th>2</th>\n",
        "      <td> 1</td>\n",
        "      <td>2013-01-02</td>\n",
        "      <td> 1</td>\n",
        "      <td> 3</td>\n",
        "      <td> foo</td>\n",
        "    </tr>\n",
        "    <tr>\n",
        "      <th>3</th>\n",
        "      <td> 1</td>\n",
        "      <td>2013-01-02</td>\n",
        "      <td> 1</td>\n",
        "      <td> 3</td>\n",
        "      <td> foo</td>\n",
        "    </tr>\n",
        "  </tbody>\n",
        "</table>\n",
        "</div>"
       ],
       "metadata": {},
       "output_type": "pyout",
       "prompt_number": 11,
       "text": [
        "   A          B  C  D    E\n",
        "0  1 2013-01-02  1  3  foo\n",
        "1  1 2013-01-02  1  3  foo\n",
        "2  1 2013-01-02  1  3  foo\n",
        "3  1 2013-01-02  1  3  foo"
       ]
      }
     ],
     "prompt_number": 11
    },
    {
     "cell_type": "code",
     "collapsed": false,
     "input": [
      "df2.dtypes #getting the object types"
     ],
     "language": "python",
     "metadata": {},
     "outputs": [
      {
       "metadata": {},
       "output_type": "pyout",
       "prompt_number": 12,
       "text": [
        "A           float64\n",
        "B    datetime64[ns]\n",
        "C           float32\n",
        "D             int32\n",
        "E            object\n",
        "dtype: object"
       ]
      }
     ],
     "prompt_number": 12
    },
    {
     "cell_type": "code",
     "collapsed": false,
     "input": [
      "df.head() #view the first five rows of the DateFrame"
     ],
     "language": "python",
     "metadata": {},
     "outputs": [
      {
       "html": [
        "<div style=\"max-height:1000px;max-width:1500px;overflow:auto;\">\n",
        "<table border=\"1\" class=\"dataframe\">\n",
        "  <thead>\n",
        "    <tr style=\"text-align: right;\">\n",
        "      <th></th>\n",
        "      <th>A</th>\n",
        "      <th>B</th>\n",
        "      <th>C</th>\n",
        "      <th>D</th>\n",
        "    </tr>\n",
        "  </thead>\n",
        "  <tbody>\n",
        "    <tr>\n",
        "      <th>2013-01-01</th>\n",
        "      <td> 0.913728</td>\n",
        "      <td> 0.732959</td>\n",
        "      <td> 0.341203</td>\n",
        "      <td> 0.285260</td>\n",
        "    </tr>\n",
        "    <tr>\n",
        "      <th>2013-01-02</th>\n",
        "      <td> 0.459239</td>\n",
        "      <td> 0.020161</td>\n",
        "      <td> 0.761153</td>\n",
        "      <td> 0.381291</td>\n",
        "    </tr>\n",
        "    <tr>\n",
        "      <th>2013-01-03</th>\n",
        "      <td> 0.866140</td>\n",
        "      <td> 0.194305</td>\n",
        "      <td> 0.855781</td>\n",
        "      <td> 0.468772</td>\n",
        "    </tr>\n",
        "    <tr>\n",
        "      <th>2013-01-04</th>\n",
        "      <td> 0.722176</td>\n",
        "      <td> 0.967375</td>\n",
        "      <td> 0.587062</td>\n",
        "      <td> 0.155632</td>\n",
        "    </tr>\n",
        "    <tr>\n",
        "      <th>2013-01-05</th>\n",
        "      <td> 0.232301</td>\n",
        "      <td> 0.035282</td>\n",
        "      <td> 0.277799</td>\n",
        "      <td> 0.817466</td>\n",
        "    </tr>\n",
        "  </tbody>\n",
        "</table>\n",
        "</div>"
       ],
       "metadata": {},
       "output_type": "pyout",
       "prompt_number": 13,
       "text": [
        "                   A         B         C         D\n",
        "2013-01-01  0.913728  0.732959  0.341203  0.285260\n",
        "2013-01-02  0.459239  0.020161  0.761153  0.381291\n",
        "2013-01-03  0.866140  0.194305  0.855781  0.468772\n",
        "2013-01-04  0.722176  0.967375  0.587062  0.155632\n",
        "2013-01-05  0.232301  0.035282  0.277799  0.817466"
       ]
      }
     ],
     "prompt_number": 13
    },
    {
     "cell_type": "code",
     "collapsed": false,
     "input": [
      "df.tail() #view the last five rows of the DataFrame"
     ],
     "language": "python",
     "metadata": {},
     "outputs": [
      {
       "html": [
        "<div style=\"max-height:1000px;max-width:1500px;overflow:auto;\">\n",
        "<table border=\"1\" class=\"dataframe\">\n",
        "  <thead>\n",
        "    <tr style=\"text-align: right;\">\n",
        "      <th></th>\n",
        "      <th>A</th>\n",
        "      <th>B</th>\n",
        "      <th>C</th>\n",
        "      <th>D</th>\n",
        "    </tr>\n",
        "  </thead>\n",
        "  <tbody>\n",
        "    <tr>\n",
        "      <th>2013-01-02</th>\n",
        "      <td> 0.459239</td>\n",
        "      <td> 0.020161</td>\n",
        "      <td> 0.761153</td>\n",
        "      <td> 0.381291</td>\n",
        "    </tr>\n",
        "    <tr>\n",
        "      <th>2013-01-03</th>\n",
        "      <td> 0.866140</td>\n",
        "      <td> 0.194305</td>\n",
        "      <td> 0.855781</td>\n",
        "      <td> 0.468772</td>\n",
        "    </tr>\n",
        "    <tr>\n",
        "      <th>2013-01-04</th>\n",
        "      <td> 0.722176</td>\n",
        "      <td> 0.967375</td>\n",
        "      <td> 0.587062</td>\n",
        "      <td> 0.155632</td>\n",
        "    </tr>\n",
        "    <tr>\n",
        "      <th>2013-01-05</th>\n",
        "      <td> 0.232301</td>\n",
        "      <td> 0.035282</td>\n",
        "      <td> 0.277799</td>\n",
        "      <td> 0.817466</td>\n",
        "    </tr>\n",
        "    <tr>\n",
        "      <th>2013-01-06</th>\n",
        "      <td> 0.084703</td>\n",
        "      <td> 0.019913</td>\n",
        "      <td> 0.921164</td>\n",
        "      <td> 0.481842</td>\n",
        "    </tr>\n",
        "  </tbody>\n",
        "</table>\n",
        "</div>"
       ],
       "metadata": {},
       "output_type": "pyout",
       "prompt_number": 14,
       "text": [
        "                   A         B         C         D\n",
        "2013-01-02  0.459239  0.020161  0.761153  0.381291\n",
        "2013-01-03  0.866140  0.194305  0.855781  0.468772\n",
        "2013-01-04  0.722176  0.967375  0.587062  0.155632\n",
        "2013-01-05  0.232301  0.035282  0.277799  0.817466\n",
        "2013-01-06  0.084703  0.019913  0.921164  0.481842"
       ]
      }
     ],
     "prompt_number": 14
    },
    {
     "cell_type": "code",
     "collapsed": false,
     "input": [
      "df.index #displaying the index"
     ],
     "language": "python",
     "metadata": {},
     "outputs": [
      {
       "metadata": {},
       "output_type": "pyout",
       "prompt_number": 15,
       "text": [
        "<class 'pandas.tseries.index.DatetimeIndex'>\n",
        "[2013-01-01, ..., 2013-01-06]\n",
        "Length: 6, Freq: D, Timezone: None"
       ]
      }
     ],
     "prompt_number": 15
    },
    {
     "cell_type": "code",
     "collapsed": false,
     "input": [
      "df.columns #displaying the column names"
     ],
     "language": "python",
     "metadata": {},
     "outputs": [
      {
       "metadata": {},
       "output_type": "pyout",
       "prompt_number": 16,
       "text": [
        "Index([u'A', u'B', u'C', u'D'], dtype='object')"
       ]
      }
     ],
     "prompt_number": 16
    },
    {
     "cell_type": "code",
     "collapsed": false,
     "input": [
      "df.values #displaying values of DataFrame"
     ],
     "language": "python",
     "metadata": {},
     "outputs": [
      {
       "metadata": {},
       "output_type": "pyout",
       "prompt_number": 17,
       "text": [
        "array([[ 0.91372843,  0.73295889,  0.34120331,  0.28525979],\n",
        "       [ 0.45923869,  0.02016068,  0.76115267,  0.38129081],\n",
        "       [ 0.86613958,  0.19430466,  0.85578116,  0.46877156],\n",
        "       [ 0.72217562,  0.96737541,  0.58706219,  0.15563193],\n",
        "       [ 0.23230088,  0.03528168,  0.2777992 ,  0.81746614],\n",
        "       [ 0.08470316,  0.01991275,  0.92116396,  0.48184191]])"
       ]
      }
     ],
     "prompt_number": 17
    },
    {
     "cell_type": "code",
     "collapsed": false,
     "input": [
      "df.describe() #Dispaying summary statistics of the data"
     ],
     "language": "python",
     "metadata": {},
     "outputs": [
      {
       "html": [
        "<div style=\"max-height:1000px;max-width:1500px;overflow:auto;\">\n",
        "<table border=\"1\" class=\"dataframe\">\n",
        "  <thead>\n",
        "    <tr style=\"text-align: right;\">\n",
        "      <th></th>\n",
        "      <th>A</th>\n",
        "      <th>B</th>\n",
        "      <th>C</th>\n",
        "      <th>D</th>\n",
        "    </tr>\n",
        "  </thead>\n",
        "  <tbody>\n",
        "    <tr>\n",
        "      <th>count</th>\n",
        "      <td> 6.000000</td>\n",
        "      <td> 6.000000</td>\n",
        "      <td> 6.000000</td>\n",
        "      <td> 6.000000</td>\n",
        "    </tr>\n",
        "    <tr>\n",
        "      <th>mean</th>\n",
        "      <td> 0.546381</td>\n",
        "      <td> 0.328332</td>\n",
        "      <td> 0.624027</td>\n",
        "      <td> 0.431710</td>\n",
        "    </tr>\n",
        "    <tr>\n",
        "      <th>std</th>\n",
        "      <td> 0.342777</td>\n",
        "      <td> 0.416181</td>\n",
        "      <td> 0.269085</td>\n",
        "      <td> 0.224902</td>\n",
        "    </tr>\n",
        "    <tr>\n",
        "      <th>min</th>\n",
        "      <td> 0.084703</td>\n",
        "      <td> 0.019913</td>\n",
        "      <td> 0.277799</td>\n",
        "      <td> 0.155632</td>\n",
        "    </tr>\n",
        "    <tr>\n",
        "      <th>25%</th>\n",
        "      <td> 0.289035</td>\n",
        "      <td> 0.023941</td>\n",
        "      <td> 0.402668</td>\n",
        "      <td> 0.309268</td>\n",
        "    </tr>\n",
        "    <tr>\n",
        "      <th>50%</th>\n",
        "      <td> 0.590707</td>\n",
        "      <td> 0.114793</td>\n",
        "      <td> 0.674107</td>\n",
        "      <td> 0.425031</td>\n",
        "    </tr>\n",
        "    <tr>\n",
        "      <th>75%</th>\n",
        "      <td> 0.830149</td>\n",
        "      <td> 0.598295</td>\n",
        "      <td> 0.832124</td>\n",
        "      <td> 0.478574</td>\n",
        "    </tr>\n",
        "    <tr>\n",
        "      <th>max</th>\n",
        "      <td> 0.913728</td>\n",
        "      <td> 0.967375</td>\n",
        "      <td> 0.921164</td>\n",
        "      <td> 0.817466</td>\n",
        "    </tr>\n",
        "  </tbody>\n",
        "</table>\n",
        "</div>"
       ],
       "metadata": {},
       "output_type": "pyout",
       "prompt_number": 19,
       "text": [
        "              A         B         C         D\n",
        "count  6.000000  6.000000  6.000000  6.000000\n",
        "mean   0.546381  0.328332  0.624027  0.431710\n",
        "std    0.342777  0.416181  0.269085  0.224902\n",
        "min    0.084703  0.019913  0.277799  0.155632\n",
        "25%    0.289035  0.023941  0.402668  0.309268\n",
        "50%    0.590707  0.114793  0.674107  0.425031\n",
        "75%    0.830149  0.598295  0.832124  0.478574\n",
        "max    0.913728  0.967375  0.921164  0.817466"
       ]
      }
     ],
     "prompt_number": 19
    },
    {
     "cell_type": "code",
     "collapsed": false,
     "input": [
      "df.T #transposing your data"
     ],
     "language": "python",
     "metadata": {},
     "outputs": [
      {
       "html": [
        "<div style=\"max-height:1000px;max-width:1500px;overflow:auto;\">\n",
        "<table border=\"1\" class=\"dataframe\">\n",
        "  <thead>\n",
        "    <tr style=\"text-align: right;\">\n",
        "      <th></th>\n",
        "      <th>2013-01-01 00:00:00</th>\n",
        "      <th>2013-01-02 00:00:00</th>\n",
        "      <th>2013-01-03 00:00:00</th>\n",
        "      <th>2013-01-04 00:00:00</th>\n",
        "      <th>2013-01-05 00:00:00</th>\n",
        "      <th>2013-01-06 00:00:00</th>\n",
        "    </tr>\n",
        "  </thead>\n",
        "  <tbody>\n",
        "    <tr>\n",
        "      <th>A</th>\n",
        "      <td> 0.913728</td>\n",
        "      <td> 0.459239</td>\n",
        "      <td> 0.866140</td>\n",
        "      <td> 0.722176</td>\n",
        "      <td> 0.232301</td>\n",
        "      <td> 0.084703</td>\n",
        "    </tr>\n",
        "    <tr>\n",
        "      <th>B</th>\n",
        "      <td> 0.732959</td>\n",
        "      <td> 0.020161</td>\n",
        "      <td> 0.194305</td>\n",
        "      <td> 0.967375</td>\n",
        "      <td> 0.035282</td>\n",
        "      <td> 0.019913</td>\n",
        "    </tr>\n",
        "    <tr>\n",
        "      <th>C</th>\n",
        "      <td> 0.341203</td>\n",
        "      <td> 0.761153</td>\n",
        "      <td> 0.855781</td>\n",
        "      <td> 0.587062</td>\n",
        "      <td> 0.277799</td>\n",
        "      <td> 0.921164</td>\n",
        "    </tr>\n",
        "    <tr>\n",
        "      <th>D</th>\n",
        "      <td> 0.285260</td>\n",
        "      <td> 0.381291</td>\n",
        "      <td> 0.468772</td>\n",
        "      <td> 0.155632</td>\n",
        "      <td> 0.817466</td>\n",
        "      <td> 0.481842</td>\n",
        "    </tr>\n",
        "  </tbody>\n",
        "</table>\n",
        "</div>"
       ],
       "metadata": {},
       "output_type": "pyout",
       "prompt_number": 20,
       "text": [
        "   2013-01-01  2013-01-02  2013-01-03  2013-01-04  2013-01-05  2013-01-06\n",
        "A    0.913728    0.459239    0.866140    0.722176    0.232301    0.084703\n",
        "B    0.732959    0.020161    0.194305    0.967375    0.035282    0.019913\n",
        "C    0.341203    0.761153    0.855781    0.587062    0.277799    0.921164\n",
        "D    0.285260    0.381291    0.468772    0.155632    0.817466    0.481842"
       ]
      }
     ],
     "prompt_number": 20
    },
    {
     "cell_type": "code",
     "collapsed": false,
     "input": [
      "df.sort_index(axis=1,ascending=False) #sorting by an axis"
     ],
     "language": "python",
     "metadata": {},
     "outputs": [
      {
       "html": [
        "<div style=\"max-height:1000px;max-width:1500px;overflow:auto;\">\n",
        "<table border=\"1\" class=\"dataframe\">\n",
        "  <thead>\n",
        "    <tr style=\"text-align: right;\">\n",
        "      <th></th>\n",
        "      <th>D</th>\n",
        "      <th>C</th>\n",
        "      <th>B</th>\n",
        "      <th>A</th>\n",
        "    </tr>\n",
        "  </thead>\n",
        "  <tbody>\n",
        "    <tr>\n",
        "      <th>2013-01-01</th>\n",
        "      <td> 0.285260</td>\n",
        "      <td> 0.341203</td>\n",
        "      <td> 0.732959</td>\n",
        "      <td> 0.913728</td>\n",
        "    </tr>\n",
        "    <tr>\n",
        "      <th>2013-01-02</th>\n",
        "      <td> 0.381291</td>\n",
        "      <td> 0.761153</td>\n",
        "      <td> 0.020161</td>\n",
        "      <td> 0.459239</td>\n",
        "    </tr>\n",
        "    <tr>\n",
        "      <th>2013-01-03</th>\n",
        "      <td> 0.468772</td>\n",
        "      <td> 0.855781</td>\n",
        "      <td> 0.194305</td>\n",
        "      <td> 0.866140</td>\n",
        "    </tr>\n",
        "    <tr>\n",
        "      <th>2013-01-04</th>\n",
        "      <td> 0.155632</td>\n",
        "      <td> 0.587062</td>\n",
        "      <td> 0.967375</td>\n",
        "      <td> 0.722176</td>\n",
        "    </tr>\n",
        "    <tr>\n",
        "      <th>2013-01-05</th>\n",
        "      <td> 0.817466</td>\n",
        "      <td> 0.277799</td>\n",
        "      <td> 0.035282</td>\n",
        "      <td> 0.232301</td>\n",
        "    </tr>\n",
        "    <tr>\n",
        "      <th>2013-01-06</th>\n",
        "      <td> 0.481842</td>\n",
        "      <td> 0.921164</td>\n",
        "      <td> 0.019913</td>\n",
        "      <td> 0.084703</td>\n",
        "    </tr>\n",
        "  </tbody>\n",
        "</table>\n",
        "</div>"
       ],
       "metadata": {},
       "output_type": "pyout",
       "prompt_number": 22,
       "text": [
        "                   D         C         B         A\n",
        "2013-01-01  0.285260  0.341203  0.732959  0.913728\n",
        "2013-01-02  0.381291  0.761153  0.020161  0.459239\n",
        "2013-01-03  0.468772  0.855781  0.194305  0.866140\n",
        "2013-01-04  0.155632  0.587062  0.967375  0.722176\n",
        "2013-01-05  0.817466  0.277799  0.035282  0.232301\n",
        "2013-01-06  0.481842  0.921164  0.019913  0.084703"
       ]
      }
     ],
     "prompt_number": 22
    },
    {
     "cell_type": "code",
     "collapsed": false,
     "input": [
      "df.sort(columns='B') #sorting by values"
     ],
     "language": "python",
     "metadata": {},
     "outputs": [
      {
       "html": [
        "<div style=\"max-height:1000px;max-width:1500px;overflow:auto;\">\n",
        "<table border=\"1\" class=\"dataframe\">\n",
        "  <thead>\n",
        "    <tr style=\"text-align: right;\">\n",
        "      <th></th>\n",
        "      <th>A</th>\n",
        "      <th>B</th>\n",
        "      <th>C</th>\n",
        "      <th>D</th>\n",
        "    </tr>\n",
        "  </thead>\n",
        "  <tbody>\n",
        "    <tr>\n",
        "      <th>2013-01-06</th>\n",
        "      <td> 0.084703</td>\n",
        "      <td> 0.019913</td>\n",
        "      <td> 0.921164</td>\n",
        "      <td> 0.481842</td>\n",
        "    </tr>\n",
        "    <tr>\n",
        "      <th>2013-01-02</th>\n",
        "      <td> 0.459239</td>\n",
        "      <td> 0.020161</td>\n",
        "      <td> 0.761153</td>\n",
        "      <td> 0.381291</td>\n",
        "    </tr>\n",
        "    <tr>\n",
        "      <th>2013-01-05</th>\n",
        "      <td> 0.232301</td>\n",
        "      <td> 0.035282</td>\n",
        "      <td> 0.277799</td>\n",
        "      <td> 0.817466</td>\n",
        "    </tr>\n",
        "    <tr>\n",
        "      <th>2013-01-03</th>\n",
        "      <td> 0.866140</td>\n",
        "      <td> 0.194305</td>\n",
        "      <td> 0.855781</td>\n",
        "      <td> 0.468772</td>\n",
        "    </tr>\n",
        "    <tr>\n",
        "      <th>2013-01-01</th>\n",
        "      <td> 0.913728</td>\n",
        "      <td> 0.732959</td>\n",
        "      <td> 0.341203</td>\n",
        "      <td> 0.285260</td>\n",
        "    </tr>\n",
        "    <tr>\n",
        "      <th>2013-01-04</th>\n",
        "      <td> 0.722176</td>\n",
        "      <td> 0.967375</td>\n",
        "      <td> 0.587062</td>\n",
        "      <td> 0.155632</td>\n",
        "    </tr>\n",
        "  </tbody>\n",
        "</table>\n",
        "</div>"
       ],
       "metadata": {},
       "output_type": "pyout",
       "prompt_number": 23,
       "text": [
        "                   A         B         C         D\n",
        "2013-01-06  0.084703  0.019913  0.921164  0.481842\n",
        "2013-01-02  0.459239  0.020161  0.761153  0.381291\n",
        "2013-01-05  0.232301  0.035282  0.277799  0.817466\n",
        "2013-01-03  0.866140  0.194305  0.855781  0.468772\n",
        "2013-01-01  0.913728  0.732959  0.341203  0.285260\n",
        "2013-01-04  0.722176  0.967375  0.587062  0.155632"
       ]
      }
     ],
     "prompt_number": 23
    },
    {
     "cell_type": "code",
     "collapsed": false,
     "input": [
      "df.A #Selecting a specific column"
     ],
     "language": "python",
     "metadata": {},
     "outputs": [
      {
       "metadata": {},
       "output_type": "pyout",
       "prompt_number": 24,
       "text": [
        "2013-01-01    0.913728\n",
        "2013-01-02    0.459239\n",
        "2013-01-03    0.866140\n",
        "2013-01-04    0.722176\n",
        "2013-01-05    0.232301\n",
        "2013-01-06    0.084703\n",
        "Freq: D, Name: A, dtype: float64"
       ]
      }
     ],
     "prompt_number": 24
    },
    {
     "cell_type": "code",
     "collapsed": false,
     "input": [
      "df['A'] #Selecting a specific column"
     ],
     "language": "python",
     "metadata": {},
     "outputs": [
      {
       "metadata": {},
       "output_type": "pyout",
       "prompt_number": 25,
       "text": [
        "2013-01-01    0.913728\n",
        "2013-01-02    0.459239\n",
        "2013-01-03    0.866140\n",
        "2013-01-04    0.722176\n",
        "2013-01-05    0.232301\n",
        "2013-01-06    0.084703\n",
        "Freq: D, Name: A, dtype: float64"
       ]
      }
     ],
     "prompt_number": 25
    },
    {
     "cell_type": "code",
     "collapsed": false,
     "input": [
      "df[0:3] #slicing the rows"
     ],
     "language": "python",
     "metadata": {},
     "outputs": [
      {
       "html": [
        "<div style=\"max-height:1000px;max-width:1500px;overflow:auto;\">\n",
        "<table border=\"1\" class=\"dataframe\">\n",
        "  <thead>\n",
        "    <tr style=\"text-align: right;\">\n",
        "      <th></th>\n",
        "      <th>A</th>\n",
        "      <th>B</th>\n",
        "      <th>C</th>\n",
        "      <th>D</th>\n",
        "    </tr>\n",
        "  </thead>\n",
        "  <tbody>\n",
        "    <tr>\n",
        "      <th>2013-01-01</th>\n",
        "      <td> 0.913728</td>\n",
        "      <td> 0.732959</td>\n",
        "      <td> 0.341203</td>\n",
        "      <td> 0.285260</td>\n",
        "    </tr>\n",
        "    <tr>\n",
        "      <th>2013-01-02</th>\n",
        "      <td> 0.459239</td>\n",
        "      <td> 0.020161</td>\n",
        "      <td> 0.761153</td>\n",
        "      <td> 0.381291</td>\n",
        "    </tr>\n",
        "    <tr>\n",
        "      <th>2013-01-03</th>\n",
        "      <td> 0.866140</td>\n",
        "      <td> 0.194305</td>\n",
        "      <td> 0.855781</td>\n",
        "      <td> 0.468772</td>\n",
        "    </tr>\n",
        "  </tbody>\n",
        "</table>\n",
        "</div>"
       ],
       "metadata": {},
       "output_type": "pyout",
       "prompt_number": 26,
       "text": [
        "                   A         B         C         D\n",
        "2013-01-01  0.913728  0.732959  0.341203  0.285260\n",
        "2013-01-02  0.459239  0.020161  0.761153  0.381291\n",
        "2013-01-03  0.866140  0.194305  0.855781  0.468772"
       ]
      }
     ],
     "prompt_number": 26
    },
    {
     "cell_type": "code",
     "collapsed": false,
     "input": [
      "df['20130102':'20130104'] #Slicing by index range"
     ],
     "language": "python",
     "metadata": {},
     "outputs": [
      {
       "html": [
        "<div style=\"max-height:1000px;max-width:1500px;overflow:auto;\">\n",
        "<table border=\"1\" class=\"dataframe\">\n",
        "  <thead>\n",
        "    <tr style=\"text-align: right;\">\n",
        "      <th></th>\n",
        "      <th>A</th>\n",
        "      <th>B</th>\n",
        "      <th>C</th>\n",
        "      <th>D</th>\n",
        "    </tr>\n",
        "  </thead>\n",
        "  <tbody>\n",
        "    <tr>\n",
        "      <th>2013-01-02</th>\n",
        "      <td> 0.459239</td>\n",
        "      <td> 0.020161</td>\n",
        "      <td> 0.761153</td>\n",
        "      <td> 0.381291</td>\n",
        "    </tr>\n",
        "    <tr>\n",
        "      <th>2013-01-03</th>\n",
        "      <td> 0.866140</td>\n",
        "      <td> 0.194305</td>\n",
        "      <td> 0.855781</td>\n",
        "      <td> 0.468772</td>\n",
        "    </tr>\n",
        "    <tr>\n",
        "      <th>2013-01-04</th>\n",
        "      <td> 0.722176</td>\n",
        "      <td> 0.967375</td>\n",
        "      <td> 0.587062</td>\n",
        "      <td> 0.155632</td>\n",
        "    </tr>\n",
        "  </tbody>\n",
        "</table>\n",
        "</div>"
       ],
       "metadata": {},
       "output_type": "pyout",
       "prompt_number": 29,
       "text": [
        "                   A         B         C         D\n",
        "2013-01-02  0.459239  0.020161  0.761153  0.381291\n",
        "2013-01-03  0.866140  0.194305  0.855781  0.468772\n",
        "2013-01-04  0.722176  0.967375  0.587062  0.155632"
       ]
      }
     ],
     "prompt_number": 29
    },
    {
     "cell_type": "code",
     "collapsed": false,
     "input": [
      "df.loc[dates[0]] #Getting a row by selecting an index"
     ],
     "language": "python",
     "metadata": {},
     "outputs": [
      {
       "metadata": {},
       "output_type": "pyout",
       "prompt_number": 33,
       "text": [
        "A    0.913728\n",
        "B    0.732959\n",
        "C    0.341203\n",
        "D    0.285260\n",
        "Name: 2013-01-01 00:00:00, dtype: float64"
       ]
      }
     ],
     "prompt_number": 33
    },
    {
     "cell_type": "code",
     "collapsed": false,
     "input": [
      "df.loc[:,['A','B']] #Selecting multiple columns by axis names"
     ],
     "language": "python",
     "metadata": {},
     "outputs": [
      {
       "html": [
        "<div style=\"max-height:1000px;max-width:1500px;overflow:auto;\">\n",
        "<table border=\"1\" class=\"dataframe\">\n",
        "  <thead>\n",
        "    <tr style=\"text-align: right;\">\n",
        "      <th></th>\n",
        "      <th>A</th>\n",
        "      <th>B</th>\n",
        "    </tr>\n",
        "  </thead>\n",
        "  <tbody>\n",
        "    <tr>\n",
        "      <th>2013-01-01</th>\n",
        "      <td> 0.913728</td>\n",
        "      <td> 0.732959</td>\n",
        "    </tr>\n",
        "    <tr>\n",
        "      <th>2013-01-02</th>\n",
        "      <td> 0.459239</td>\n",
        "      <td> 0.020161</td>\n",
        "    </tr>\n",
        "    <tr>\n",
        "      <th>2013-01-03</th>\n",
        "      <td> 0.866140</td>\n",
        "      <td> 0.194305</td>\n",
        "    </tr>\n",
        "    <tr>\n",
        "      <th>2013-01-04</th>\n",
        "      <td> 0.722176</td>\n",
        "      <td> 0.967375</td>\n",
        "    </tr>\n",
        "    <tr>\n",
        "      <th>2013-01-05</th>\n",
        "      <td> 0.232301</td>\n",
        "      <td> 0.035282</td>\n",
        "    </tr>\n",
        "    <tr>\n",
        "      <th>2013-01-06</th>\n",
        "      <td> 0.084703</td>\n",
        "      <td> 0.019913</td>\n",
        "    </tr>\n",
        "  </tbody>\n",
        "</table>\n",
        "</div>"
       ],
       "metadata": {},
       "output_type": "pyout",
       "prompt_number": 37,
       "text": [
        "                   A         B\n",
        "2013-01-01  0.913728  0.732959\n",
        "2013-01-02  0.459239  0.020161\n",
        "2013-01-03  0.866140  0.194305\n",
        "2013-01-04  0.722176  0.967375\n",
        "2013-01-05  0.232301  0.035282\n",
        "2013-01-06  0.084703  0.019913"
       ]
      }
     ],
     "prompt_number": 37
    },
    {
     "cell_type": "code",
     "collapsed": false,
     "input": [
      "df.loc['20130102':'20130104',['A','B']] #Slicing by column and row labels"
     ],
     "language": "python",
     "metadata": {},
     "outputs": [
      {
       "html": [
        "<div style=\"max-height:1000px;max-width:1500px;overflow:auto;\">\n",
        "<table border=\"1\" class=\"dataframe\">\n",
        "  <thead>\n",
        "    <tr style=\"text-align: right;\">\n",
        "      <th></th>\n",
        "      <th>A</th>\n",
        "      <th>B</th>\n",
        "    </tr>\n",
        "  </thead>\n",
        "  <tbody>\n",
        "    <tr>\n",
        "      <th>2013-01-02</th>\n",
        "      <td> 0.459239</td>\n",
        "      <td> 0.020161</td>\n",
        "    </tr>\n",
        "    <tr>\n",
        "      <th>2013-01-03</th>\n",
        "      <td> 0.866140</td>\n",
        "      <td> 0.194305</td>\n",
        "    </tr>\n",
        "    <tr>\n",
        "      <th>2013-01-04</th>\n",
        "      <td> 0.722176</td>\n",
        "      <td> 0.967375</td>\n",
        "    </tr>\n",
        "  </tbody>\n",
        "</table>\n",
        "</div>"
       ],
       "metadata": {},
       "output_type": "pyout",
       "prompt_number": 38,
       "text": [
        "                   A         B\n",
        "2013-01-02  0.459239  0.020161\n",
        "2013-01-03  0.866140  0.194305\n",
        "2013-01-04  0.722176  0.967375"
       ]
      }
     ],
     "prompt_number": 38
    },
    {
     "cell_type": "code",
     "collapsed": false,
     "input": [
      "df.loc['20130102',['A','B']] #reduction in the dimensions of the returned object"
     ],
     "language": "python",
     "metadata": {},
     "outputs": [
      {
       "metadata": {},
       "output_type": "pyout",
       "prompt_number": 40,
       "text": [
        "A    0.459239\n",
        "B    0.020161\n",
        "Name: 2013-01-02 00:00:00, dtype: float64"
       ]
      }
     ],
     "prompt_number": 40
    },
    {
     "cell_type": "code",
     "collapsed": false,
     "input": [
      "df.loc[dates[0],'A'] #First select the first row and then the column A and return that cell value"
     ],
     "language": "python",
     "metadata": {},
     "outputs": [
      {
       "metadata": {},
       "output_type": "pyout",
       "prompt_number": 43,
       "text": [
        "0.91372842537215881"
       ]
      }
     ],
     "prompt_number": 43
    },
    {
     "cell_type": "code",
     "collapsed": false,
     "input": [
      "df.at[dates[0],'A'] #For getting a fast access to a scalar."
     ],
     "language": "python",
     "metadata": {},
     "outputs": [
      {
       "metadata": {},
       "output_type": "pyout",
       "prompt_number": 45,
       "text": [
        "0.91372842537215881"
       ]
      }
     ],
     "prompt_number": 45
    },
    {
     "cell_type": "code",
     "collapsed": false,
     "input": [
      "df.iloc[3] #Selecting a row by position of DataFrame object"
     ],
     "language": "python",
     "metadata": {},
     "outputs": [
      {
       "metadata": {},
       "output_type": "pyout",
       "prompt_number": 47,
       "text": [
        "A    0.722176\n",
        "B    0.967375\n",
        "C    0.587062\n",
        "D    0.155632\n",
        "Name: 2013-01-04 00:00:00, dtype: float64"
       ]
      }
     ],
     "prompt_number": 47
    },
    {
     "cell_type": "code",
     "collapsed": false,
     "input": [
      "df.iloc[3:5,0:2] #Slicing a DataFrame by row and column indexes"
     ],
     "language": "python",
     "metadata": {},
     "outputs": [
      {
       "html": [
        "<div style=\"max-height:1000px;max-width:1500px;overflow:auto;\">\n",
        "<table border=\"1\" class=\"dataframe\">\n",
        "  <thead>\n",
        "    <tr style=\"text-align: right;\">\n",
        "      <th></th>\n",
        "      <th>A</th>\n",
        "      <th>B</th>\n",
        "    </tr>\n",
        "  </thead>\n",
        "  <tbody>\n",
        "    <tr>\n",
        "      <th>2013-01-04</th>\n",
        "      <td> 0.722176</td>\n",
        "      <td> 0.967375</td>\n",
        "    </tr>\n",
        "    <tr>\n",
        "      <th>2013-01-05</th>\n",
        "      <td> 0.232301</td>\n",
        "      <td> 0.035282</td>\n",
        "    </tr>\n",
        "  </tbody>\n",
        "</table>\n",
        "</div>"
       ],
       "metadata": {},
       "output_type": "pyout",
       "prompt_number": 49,
       "text": [
        "                   A         B\n",
        "2013-01-04  0.722176  0.967375\n",
        "2013-01-05  0.232301  0.035282"
       ]
      }
     ],
     "prompt_number": 49
    },
    {
     "cell_type": "code",
     "collapsed": false,
     "input": [
      "df.iloc[[1,2,4],[0,2]] #Slicing a DataFrame by specific row and column indexes, not ranges"
     ],
     "language": "python",
     "metadata": {},
     "outputs": [
      {
       "html": [
        "<div style=\"max-height:1000px;max-width:1500px;overflow:auto;\">\n",
        "<table border=\"1\" class=\"dataframe\">\n",
        "  <thead>\n",
        "    <tr style=\"text-align: right;\">\n",
        "      <th></th>\n",
        "      <th>A</th>\n",
        "      <th>C</th>\n",
        "    </tr>\n",
        "  </thead>\n",
        "  <tbody>\n",
        "    <tr>\n",
        "      <th>2013-01-02</th>\n",
        "      <td> 0.459239</td>\n",
        "      <td> 0.761153</td>\n",
        "    </tr>\n",
        "    <tr>\n",
        "      <th>2013-01-03</th>\n",
        "      <td> 0.866140</td>\n",
        "      <td> 0.855781</td>\n",
        "    </tr>\n",
        "    <tr>\n",
        "      <th>2013-01-05</th>\n",
        "      <td> 0.232301</td>\n",
        "      <td> 0.277799</td>\n",
        "    </tr>\n",
        "  </tbody>\n",
        "</table>\n",
        "</div>"
       ],
       "metadata": {},
       "output_type": "pyout",
       "prompt_number": 51,
       "text": [
        "                   A         C\n",
        "2013-01-02  0.459239  0.761153\n",
        "2013-01-03  0.866140  0.855781\n",
        "2013-01-05  0.232301  0.277799"
       ]
      }
     ],
     "prompt_number": 51
    },
    {
     "cell_type": "code",
     "collapsed": false,
     "input": [
      "df.iloc[1:3,:] #Slice a DataFrame by row ranges without specifying any columns"
     ],
     "language": "python",
     "metadata": {},
     "outputs": [
      {
       "html": [
        "<div style=\"max-height:1000px;max-width:1500px;overflow:auto;\">\n",
        "<table border=\"1\" class=\"dataframe\">\n",
        "  <thead>\n",
        "    <tr style=\"text-align: right;\">\n",
        "      <th></th>\n",
        "      <th>A</th>\n",
        "      <th>B</th>\n",
        "      <th>C</th>\n",
        "      <th>D</th>\n",
        "    </tr>\n",
        "  </thead>\n",
        "  <tbody>\n",
        "    <tr>\n",
        "      <th>2013-01-02</th>\n",
        "      <td> 0.459239</td>\n",
        "      <td> 0.020161</td>\n",
        "      <td> 0.761153</td>\n",
        "      <td> 0.381291</td>\n",
        "    </tr>\n",
        "    <tr>\n",
        "      <th>2013-01-03</th>\n",
        "      <td> 0.866140</td>\n",
        "      <td> 0.194305</td>\n",
        "      <td> 0.855781</td>\n",
        "      <td> 0.468772</td>\n",
        "    </tr>\n",
        "  </tbody>\n",
        "</table>\n",
        "</div>"
       ],
       "metadata": {},
       "output_type": "pyout",
       "prompt_number": 54,
       "text": [
        "                   A         B         C         D\n",
        "2013-01-02  0.459239  0.020161  0.761153  0.381291\n",
        "2013-01-03  0.866140  0.194305  0.855781  0.468772"
       ]
      }
     ],
     "prompt_number": 54
    },
    {
     "cell_type": "code",
     "collapsed": false,
     "input": [
      "df.iloc[:,1:3] #Slic a DataFrame by columns without specifying any rows"
     ],
     "language": "python",
     "metadata": {},
     "outputs": [
      {
       "html": [
        "<div style=\"max-height:1000px;max-width:1500px;overflow:auto;\">\n",
        "<table border=\"1\" class=\"dataframe\">\n",
        "  <thead>\n",
        "    <tr style=\"text-align: right;\">\n",
        "      <th></th>\n",
        "      <th>B</th>\n",
        "      <th>C</th>\n",
        "    </tr>\n",
        "  </thead>\n",
        "  <tbody>\n",
        "    <tr>\n",
        "      <th>2013-01-01</th>\n",
        "      <td> 0.732959</td>\n",
        "      <td> 0.341203</td>\n",
        "    </tr>\n",
        "    <tr>\n",
        "      <th>2013-01-02</th>\n",
        "      <td> 0.020161</td>\n",
        "      <td> 0.761153</td>\n",
        "    </tr>\n",
        "    <tr>\n",
        "      <th>2013-01-03</th>\n",
        "      <td> 0.194305</td>\n",
        "      <td> 0.855781</td>\n",
        "    </tr>\n",
        "    <tr>\n",
        "      <th>2013-01-04</th>\n",
        "      <td> 0.967375</td>\n",
        "      <td> 0.587062</td>\n",
        "    </tr>\n",
        "    <tr>\n",
        "      <th>2013-01-05</th>\n",
        "      <td> 0.035282</td>\n",
        "      <td> 0.277799</td>\n",
        "    </tr>\n",
        "    <tr>\n",
        "      <th>2013-01-06</th>\n",
        "      <td> 0.019913</td>\n",
        "      <td> 0.921164</td>\n",
        "    </tr>\n",
        "  </tbody>\n",
        "</table>\n",
        "</div>"
       ],
       "metadata": {},
       "output_type": "pyout",
       "prompt_number": 55,
       "text": [
        "                   B         C\n",
        "2013-01-01  0.732959  0.341203\n",
        "2013-01-02  0.020161  0.761153\n",
        "2013-01-03  0.194305  0.855781\n",
        "2013-01-04  0.967375  0.587062\n",
        "2013-01-05  0.035282  0.277799\n",
        "2013-01-06  0.019913  0.921164"
       ]
      }
     ],
     "prompt_number": 55
    },
    {
     "cell_type": "code",
     "collapsed": false,
     "input": [
      "df.iloc[1,1] #For getting a values from a DataFrame object"
     ],
     "language": "python",
     "metadata": {},
     "outputs": [
      {
       "metadata": {},
       "output_type": "pyout",
       "prompt_number": 56,
       "text": [
        "0.020160678154326206"
       ]
      }
     ],
     "prompt_number": 56
    },
    {
     "cell_type": "code",
     "collapsed": false,
     "input": [
      "df.iat[1,1] #For getting a fast access to a value in a DataFrame"
     ],
     "language": "python",
     "metadata": {},
     "outputs": [
      {
       "metadata": {},
       "output_type": "pyout",
       "prompt_number": 58,
       "text": [
        "0.020160678154326206"
       ]
      }
     ],
     "prompt_number": 58
    },
    {
     "cell_type": "code",
     "collapsed": false,
     "input": [
      "df[df.A>0.5] #Using a single column's values to select the data"
     ],
     "language": "python",
     "metadata": {},
     "outputs": [
      {
       "html": [
        "<div style=\"max-height:1000px;max-width:1500px;overflow:auto;\">\n",
        "<table border=\"1\" class=\"dataframe\">\n",
        "  <thead>\n",
        "    <tr style=\"text-align: right;\">\n",
        "      <th></th>\n",
        "      <th>A</th>\n",
        "      <th>B</th>\n",
        "      <th>C</th>\n",
        "      <th>D</th>\n",
        "    </tr>\n",
        "  </thead>\n",
        "  <tbody>\n",
        "    <tr>\n",
        "      <th>2013-01-01</th>\n",
        "      <td> 0.913728</td>\n",
        "      <td> 0.732959</td>\n",
        "      <td> 0.341203</td>\n",
        "      <td> 0.285260</td>\n",
        "    </tr>\n",
        "    <tr>\n",
        "      <th>2013-01-03</th>\n",
        "      <td> 0.866140</td>\n",
        "      <td> 0.194305</td>\n",
        "      <td> 0.855781</td>\n",
        "      <td> 0.468772</td>\n",
        "    </tr>\n",
        "    <tr>\n",
        "      <th>2013-01-04</th>\n",
        "      <td> 0.722176</td>\n",
        "      <td> 0.967375</td>\n",
        "      <td> 0.587062</td>\n",
        "      <td> 0.155632</td>\n",
        "    </tr>\n",
        "  </tbody>\n",
        "</table>\n",
        "</div>"
       ],
       "metadata": {},
       "output_type": "pyout",
       "prompt_number": 62,
       "text": [
        "                   A         B         C         D\n",
        "2013-01-01  0.913728  0.732959  0.341203  0.285260\n",
        "2013-01-03  0.866140  0.194305  0.855781  0.468772\n",
        "2013-01-04  0.722176  0.967375  0.587062  0.155632"
       ]
      }
     ],
     "prompt_number": 62
    },
    {
     "cell_type": "code",
     "collapsed": false,
     "input": [
      "df2=df.copy() #copying a DataFrame"
     ],
     "language": "python",
     "metadata": {},
     "outputs": [],
     "prompt_number": 65
    },
    {
     "cell_type": "code",
     "collapsed": false,
     "input": [
      "df2['E']=['one','one','two','three','four','three'] #Creating new array for DataFrame object"
     ],
     "language": "python",
     "metadata": {},
     "outputs": [],
     "prompt_number": 66
    },
    {
     "cell_type": "code",
     "collapsed": false,
     "input": [
      "df2[df2.E.isin(['two','four'])] #using isin() method for filtering"
     ],
     "language": "python",
     "metadata": {},
     "outputs": [
      {
       "html": [
        "<div style=\"max-height:1000px;max-width:1500px;overflow:auto;\">\n",
        "<table border=\"1\" class=\"dataframe\">\n",
        "  <thead>\n",
        "    <tr style=\"text-align: right;\">\n",
        "      <th></th>\n",
        "      <th>A</th>\n",
        "      <th>B</th>\n",
        "      <th>C</th>\n",
        "      <th>D</th>\n",
        "      <th>E</th>\n",
        "    </tr>\n",
        "  </thead>\n",
        "  <tbody>\n",
        "    <tr>\n",
        "      <th>2013-01-03</th>\n",
        "      <td> 0.866140</td>\n",
        "      <td> 0.194305</td>\n",
        "      <td> 0.855781</td>\n",
        "      <td> 0.468772</td>\n",
        "      <td>  two</td>\n",
        "    </tr>\n",
        "    <tr>\n",
        "      <th>2013-01-05</th>\n",
        "      <td> 0.232301</td>\n",
        "      <td> 0.035282</td>\n",
        "      <td> 0.277799</td>\n",
        "      <td> 0.817466</td>\n",
        "      <td> four</td>\n",
        "    </tr>\n",
        "  </tbody>\n",
        "</table>\n",
        "</div>"
       ],
       "metadata": {},
       "output_type": "pyout",
       "prompt_number": 68,
       "text": [
        "                   A         B         C         D     E\n",
        "2013-01-03  0.866140  0.194305  0.855781  0.468772   two\n",
        "2013-01-05  0.232301  0.035282  0.277799  0.817466  four"
       ]
      }
     ],
     "prompt_number": 68
    },
    {
     "cell_type": "code",
     "collapsed": false,
     "input": [
      "s1=pd.Series([1,2,3,4,5,6],index=pd.date_range('20130102',periods=6)) #setting a new column automatically"
     ],
     "language": "python",
     "metadata": {},
     "outputs": [],
     "prompt_number": 71
    },
    {
     "cell_type": "code",
     "collapsed": false,
     "input": [
      "s1"
     ],
     "language": "python",
     "metadata": {},
     "outputs": [
      {
       "metadata": {},
       "output_type": "pyout",
       "prompt_number": 72,
       "text": [
        "2013-01-02    1\n",
        "2013-01-03    2\n",
        "2013-01-04    3\n",
        "2013-01-05    4\n",
        "2013-01-06    5\n",
        "2013-01-07    6\n",
        "Freq: D, dtype: int64"
       ]
      }
     ],
     "prompt_number": 72
    },
    {
     "cell_type": "code",
     "collapsed": false,
     "input": [
      "df['F']=s1 #Setting values by label"
     ],
     "language": "python",
     "metadata": {},
     "outputs": [],
     "prompt_number": 81
    },
    {
     "cell_type": "code",
     "collapsed": false,
     "input": [
      "df"
     ],
     "language": "python",
     "metadata": {},
     "outputs": [
      {
       "html": [
        "<div style=\"max-height:1000px;max-width:1500px;overflow:auto;\">\n",
        "<table border=\"1\" class=\"dataframe\">\n",
        "  <thead>\n",
        "    <tr style=\"text-align: right;\">\n",
        "      <th></th>\n",
        "      <th>A</th>\n",
        "      <th>B</th>\n",
        "      <th>C</th>\n",
        "      <th>D</th>\n",
        "      <th>F</th>\n",
        "    </tr>\n",
        "  </thead>\n",
        "  <tbody>\n",
        "    <tr>\n",
        "      <th>2013-01-01</th>\n",
        "      <td> 0.913728</td>\n",
        "      <td> 0.732959</td>\n",
        "      <td> 0.341203</td>\n",
        "      <td> 0.285260</td>\n",
        "      <td>NaN</td>\n",
        "    </tr>\n",
        "    <tr>\n",
        "      <th>2013-01-02</th>\n",
        "      <td> 0.459239</td>\n",
        "      <td> 0.020161</td>\n",
        "      <td> 0.761153</td>\n",
        "      <td> 0.381291</td>\n",
        "      <td>  1</td>\n",
        "    </tr>\n",
        "    <tr>\n",
        "      <th>2013-01-03</th>\n",
        "      <td> 0.866140</td>\n",
        "      <td> 0.194305</td>\n",
        "      <td> 0.855781</td>\n",
        "      <td> 0.468772</td>\n",
        "      <td>  2</td>\n",
        "    </tr>\n",
        "    <tr>\n",
        "      <th>2013-01-04</th>\n",
        "      <td> 0.722176</td>\n",
        "      <td> 0.967375</td>\n",
        "      <td> 0.587062</td>\n",
        "      <td> 0.155632</td>\n",
        "      <td>  3</td>\n",
        "    </tr>\n",
        "    <tr>\n",
        "      <th>2013-01-05</th>\n",
        "      <td> 0.232301</td>\n",
        "      <td> 0.035282</td>\n",
        "      <td> 0.277799</td>\n",
        "      <td> 0.817466</td>\n",
        "      <td>  4</td>\n",
        "    </tr>\n",
        "    <tr>\n",
        "      <th>2013-01-06</th>\n",
        "      <td> 0.084703</td>\n",
        "      <td> 0.019913</td>\n",
        "      <td> 0.921164</td>\n",
        "      <td> 0.481842</td>\n",
        "      <td>  5</td>\n",
        "    </tr>\n",
        "  </tbody>\n",
        "</table>\n",
        "</div>"
       ],
       "metadata": {},
       "output_type": "pyout",
       "prompt_number": 82,
       "text": [
        "                   A         B         C         D   F\n",
        "2013-01-01  0.913728  0.732959  0.341203  0.285260 NaN\n",
        "2013-01-02  0.459239  0.020161  0.761153  0.381291   1\n",
        "2013-01-03  0.866140  0.194305  0.855781  0.468772   2\n",
        "2013-01-04  0.722176  0.967375  0.587062  0.155632   3\n",
        "2013-01-05  0.232301  0.035282  0.277799  0.817466   4\n",
        "2013-01-06  0.084703  0.019913  0.921164  0.481842   5"
       ]
      }
     ],
     "prompt_number": 82
    },
    {
     "cell_type": "code",
     "collapsed": false,
     "input": [
      "df.iat[0,1]=0 #Setting DataFrame values by position"
     ],
     "language": "python",
     "metadata": {},
     "outputs": [],
     "prompt_number": 84
    },
    {
     "cell_type": "code",
     "collapsed": false,
     "input": [
      "df #The first row and the B column now are set to zero"
     ],
     "language": "python",
     "metadata": {},
     "outputs": [
      {
       "html": [
        "<div style=\"max-height:1000px;max-width:1500px;overflow:auto;\">\n",
        "<table border=\"1\" class=\"dataframe\">\n",
        "  <thead>\n",
        "    <tr style=\"text-align: right;\">\n",
        "      <th></th>\n",
        "      <th>A</th>\n",
        "      <th>B</th>\n",
        "      <th>C</th>\n",
        "      <th>D</th>\n",
        "      <th>F</th>\n",
        "    </tr>\n",
        "  </thead>\n",
        "  <tbody>\n",
        "    <tr>\n",
        "      <th>2013-01-01</th>\n",
        "      <td> 0.913728</td>\n",
        "      <td> 0.000000</td>\n",
        "      <td> 0.341203</td>\n",
        "      <td> 0.285260</td>\n",
        "      <td>NaN</td>\n",
        "    </tr>\n",
        "    <tr>\n",
        "      <th>2013-01-02</th>\n",
        "      <td> 0.459239</td>\n",
        "      <td> 0.020161</td>\n",
        "      <td> 0.761153</td>\n",
        "      <td> 0.381291</td>\n",
        "      <td>  1</td>\n",
        "    </tr>\n",
        "    <tr>\n",
        "      <th>2013-01-03</th>\n",
        "      <td> 0.866140</td>\n",
        "      <td> 0.194305</td>\n",
        "      <td> 0.855781</td>\n",
        "      <td> 0.468772</td>\n",
        "      <td>  2</td>\n",
        "    </tr>\n",
        "    <tr>\n",
        "      <th>2013-01-04</th>\n",
        "      <td> 0.722176</td>\n",
        "      <td> 0.967375</td>\n",
        "      <td> 0.587062</td>\n",
        "      <td> 0.155632</td>\n",
        "      <td>  3</td>\n",
        "    </tr>\n",
        "    <tr>\n",
        "      <th>2013-01-05</th>\n",
        "      <td> 0.232301</td>\n",
        "      <td> 0.035282</td>\n",
        "      <td> 0.277799</td>\n",
        "      <td> 0.817466</td>\n",
        "      <td>  4</td>\n",
        "    </tr>\n",
        "    <tr>\n",
        "      <th>2013-01-06</th>\n",
        "      <td> 0.084703</td>\n",
        "      <td> 0.019913</td>\n",
        "      <td> 0.921164</td>\n",
        "      <td> 0.481842</td>\n",
        "      <td>  5</td>\n",
        "    </tr>\n",
        "  </tbody>\n",
        "</table>\n",
        "</div>"
       ],
       "metadata": {},
       "output_type": "pyout",
       "prompt_number": 85,
       "text": [
        "                   A         B         C         D   F\n",
        "2013-01-01  0.913728  0.000000  0.341203  0.285260 NaN\n",
        "2013-01-02  0.459239  0.020161  0.761153  0.381291   1\n",
        "2013-01-03  0.866140  0.194305  0.855781  0.468772   2\n",
        "2013-01-04  0.722176  0.967375  0.587062  0.155632   3\n",
        "2013-01-05  0.232301  0.035282  0.277799  0.817466   4\n",
        "2013-01-06  0.084703  0.019913  0.921164  0.481842   5"
       ]
      }
     ],
     "prompt_number": 85
    },
    {
     "cell_type": "code",
     "collapsed": false,
     "input": [
      "df.at[dates[0],'A']=0"
     ],
     "language": "python",
     "metadata": {},
     "outputs": [],
     "prompt_number": 86
    },
    {
     "cell_type": "code",
     "collapsed": false,
     "input": [
      "df"
     ],
     "language": "python",
     "metadata": {},
     "outputs": [
      {
       "html": [
        "<div style=\"max-height:1000px;max-width:1500px;overflow:auto;\">\n",
        "<table border=\"1\" class=\"dataframe\">\n",
        "  <thead>\n",
        "    <tr style=\"text-align: right;\">\n",
        "      <th></th>\n",
        "      <th>A</th>\n",
        "      <th>B</th>\n",
        "      <th>C</th>\n",
        "      <th>D</th>\n",
        "      <th>F</th>\n",
        "    </tr>\n",
        "  </thead>\n",
        "  <tbody>\n",
        "    <tr>\n",
        "      <th>2013-01-01</th>\n",
        "      <td> 0.000000</td>\n",
        "      <td> 0.000000</td>\n",
        "      <td> 0.341203</td>\n",
        "      <td> 0.285260</td>\n",
        "      <td>NaN</td>\n",
        "    </tr>\n",
        "    <tr>\n",
        "      <th>2013-01-02</th>\n",
        "      <td> 0.459239</td>\n",
        "      <td> 0.020161</td>\n",
        "      <td> 0.761153</td>\n",
        "      <td> 0.381291</td>\n",
        "      <td>  1</td>\n",
        "    </tr>\n",
        "    <tr>\n",
        "      <th>2013-01-03</th>\n",
        "      <td> 0.866140</td>\n",
        "      <td> 0.194305</td>\n",
        "      <td> 0.855781</td>\n",
        "      <td> 0.468772</td>\n",
        "      <td>  2</td>\n",
        "    </tr>\n",
        "    <tr>\n",
        "      <th>2013-01-04</th>\n",
        "      <td> 0.722176</td>\n",
        "      <td> 0.967375</td>\n",
        "      <td> 0.587062</td>\n",
        "      <td> 0.155632</td>\n",
        "      <td>  3</td>\n",
        "    </tr>\n",
        "    <tr>\n",
        "      <th>2013-01-05</th>\n",
        "      <td> 0.232301</td>\n",
        "      <td> 0.035282</td>\n",
        "      <td> 0.277799</td>\n",
        "      <td> 0.817466</td>\n",
        "      <td>  4</td>\n",
        "    </tr>\n",
        "    <tr>\n",
        "      <th>2013-01-06</th>\n",
        "      <td> 0.084703</td>\n",
        "      <td> 0.019913</td>\n",
        "      <td> 0.921164</td>\n",
        "      <td> 0.481842</td>\n",
        "      <td>  5</td>\n",
        "    </tr>\n",
        "  </tbody>\n",
        "</table>\n",
        "</div>"
       ],
       "metadata": {},
       "output_type": "pyout",
       "prompt_number": 87,
       "text": [
        "                   A         B         C         D   F\n",
        "2013-01-01  0.000000  0.000000  0.341203  0.285260 NaN\n",
        "2013-01-02  0.459239  0.020161  0.761153  0.381291   1\n",
        "2013-01-03  0.866140  0.194305  0.855781  0.468772   2\n",
        "2013-01-04  0.722176  0.967375  0.587062  0.155632   3\n",
        "2013-01-05  0.232301  0.035282  0.277799  0.817466   4\n",
        "2013-01-06  0.084703  0.019913  0.921164  0.481842   5"
       ]
      }
     ],
     "prompt_number": 87
    },
    {
     "cell_type": "code",
     "collapsed": false,
     "input": [
      "df.at[dates[0],'A'] =0 #Select firts row and column A and set the value to zero"
     ],
     "language": "python",
     "metadata": {},
     "outputs": [],
     "prompt_number": 93
    },
    {
     "cell_type": "code",
     "collapsed": false,
     "input": [
      "df"
     ],
     "language": "python",
     "metadata": {},
     "outputs": [
      {
       "html": [
        "<div style=\"max-height:1000px;max-width:1500px;overflow:auto;\">\n",
        "<table border=\"1\" class=\"dataframe\">\n",
        "  <thead>\n",
        "    <tr style=\"text-align: right;\">\n",
        "      <th></th>\n",
        "      <th>A</th>\n",
        "      <th>B</th>\n",
        "      <th>C</th>\n",
        "      <th>D</th>\n",
        "      <th>F</th>\n",
        "    </tr>\n",
        "  </thead>\n",
        "  <tbody>\n",
        "    <tr>\n",
        "      <th>2013-01-01</th>\n",
        "      <td> 0.000000</td>\n",
        "      <td> 0.000000</td>\n",
        "      <td> 0.341203</td>\n",
        "      <td> 0.285260</td>\n",
        "      <td>NaN</td>\n",
        "    </tr>\n",
        "    <tr>\n",
        "      <th>2013-01-02</th>\n",
        "      <td> 0.459239</td>\n",
        "      <td> 0.020161</td>\n",
        "      <td> 0.761153</td>\n",
        "      <td> 0.381291</td>\n",
        "      <td>  1</td>\n",
        "    </tr>\n",
        "    <tr>\n",
        "      <th>2013-01-03</th>\n",
        "      <td> 0.866140</td>\n",
        "      <td> 0.194305</td>\n",
        "      <td> 0.855781</td>\n",
        "      <td> 0.468772</td>\n",
        "      <td>  2</td>\n",
        "    </tr>\n",
        "    <tr>\n",
        "      <th>2013-01-04</th>\n",
        "      <td> 0.722176</td>\n",
        "      <td> 0.967375</td>\n",
        "      <td> 0.587062</td>\n",
        "      <td> 0.155632</td>\n",
        "      <td>  3</td>\n",
        "    </tr>\n",
        "    <tr>\n",
        "      <th>2013-01-05</th>\n",
        "      <td> 0.232301</td>\n",
        "      <td> 0.035282</td>\n",
        "      <td> 0.277799</td>\n",
        "      <td> 0.817466</td>\n",
        "      <td>  4</td>\n",
        "    </tr>\n",
        "    <tr>\n",
        "      <th>2013-01-06</th>\n",
        "      <td> 0.084703</td>\n",
        "      <td> 0.019913</td>\n",
        "      <td> 0.921164</td>\n",
        "      <td> 0.481842</td>\n",
        "      <td>  5</td>\n",
        "    </tr>\n",
        "  </tbody>\n",
        "</table>\n",
        "</div>"
       ],
       "metadata": {},
       "output_type": "pyout",
       "prompt_number": 94,
       "text": [
        "                   A         B         C         D   F\n",
        "2013-01-01  0.000000  0.000000  0.341203  0.285260 NaN\n",
        "2013-01-02  0.459239  0.020161  0.761153  0.381291   1\n",
        "2013-01-03  0.866140  0.194305  0.855781  0.468772   2\n",
        "2013-01-04  0.722176  0.967375  0.587062  0.155632   3\n",
        "2013-01-05  0.232301  0.035282  0.277799  0.817466   4\n",
        "2013-01-06  0.084703  0.019913  0.921164  0.481842   5"
       ]
      }
     ],
     "prompt_number": 94
    },
    {
     "cell_type": "code",
     "collapsed": false,
     "input": [
      "df.loc[:,'D']=np.array([5]*len(df)) #Select the column D and set their values to five"
     ],
     "language": "python",
     "metadata": {},
     "outputs": [],
     "prompt_number": 96
    },
    {
     "cell_type": "code",
     "collapsed": false,
     "input": [
      "df"
     ],
     "language": "python",
     "metadata": {},
     "outputs": [
      {
       "html": [
        "<div style=\"max-height:1000px;max-width:1500px;overflow:auto;\">\n",
        "<table border=\"1\" class=\"dataframe\">\n",
        "  <thead>\n",
        "    <tr style=\"text-align: right;\">\n",
        "      <th></th>\n",
        "      <th>A</th>\n",
        "      <th>B</th>\n",
        "      <th>C</th>\n",
        "      <th>D</th>\n",
        "      <th>F</th>\n",
        "    </tr>\n",
        "  </thead>\n",
        "  <tbody>\n",
        "    <tr>\n",
        "      <th>2013-01-01</th>\n",
        "      <td> 0.000000</td>\n",
        "      <td> 0.000000</td>\n",
        "      <td> 0.341203</td>\n",
        "      <td> 5</td>\n",
        "      <td>NaN</td>\n",
        "    </tr>\n",
        "    <tr>\n",
        "      <th>2013-01-02</th>\n",
        "      <td> 0.459239</td>\n",
        "      <td> 0.020161</td>\n",
        "      <td> 0.761153</td>\n",
        "      <td> 5</td>\n",
        "      <td>  1</td>\n",
        "    </tr>\n",
        "    <tr>\n",
        "      <th>2013-01-03</th>\n",
        "      <td> 0.866140</td>\n",
        "      <td> 0.194305</td>\n",
        "      <td> 0.855781</td>\n",
        "      <td> 5</td>\n",
        "      <td>  2</td>\n",
        "    </tr>\n",
        "    <tr>\n",
        "      <th>2013-01-04</th>\n",
        "      <td> 0.722176</td>\n",
        "      <td> 0.967375</td>\n",
        "      <td> 0.587062</td>\n",
        "      <td> 5</td>\n",
        "      <td>  3</td>\n",
        "    </tr>\n",
        "    <tr>\n",
        "      <th>2013-01-05</th>\n",
        "      <td> 0.232301</td>\n",
        "      <td> 0.035282</td>\n",
        "      <td> 0.277799</td>\n",
        "      <td> 5</td>\n",
        "      <td>  4</td>\n",
        "    </tr>\n",
        "    <tr>\n",
        "      <th>2013-01-06</th>\n",
        "      <td> 0.084703</td>\n",
        "      <td> 0.019913</td>\n",
        "      <td> 0.921164</td>\n",
        "      <td> 5</td>\n",
        "      <td>  5</td>\n",
        "    </tr>\n",
        "  </tbody>\n",
        "</table>\n",
        "</div>"
       ],
       "metadata": {},
       "output_type": "pyout",
       "prompt_number": 97,
       "text": [
        "                   A         B         C  D   F\n",
        "2013-01-01  0.000000  0.000000  0.341203  5 NaN\n",
        "2013-01-02  0.459239  0.020161  0.761153  5   1\n",
        "2013-01-03  0.866140  0.194305  0.855781  5   2\n",
        "2013-01-04  0.722176  0.967375  0.587062  5   3\n",
        "2013-01-05  0.232301  0.035282  0.277799  5   4\n",
        "2013-01-06  0.084703  0.019913  0.921164  5   5"
       ]
      }
     ],
     "prompt_number": 97
    },
    {
     "cell_type": "code",
     "collapsed": false,
     "input": [
      "df2=df.copy()"
     ],
     "language": "python",
     "metadata": {},
     "outputs": [],
     "prompt_number": 98
    },
    {
     "cell_type": "code",
     "collapsed": false,
     "input": [
      "df2[df2>0]=-df2"
     ],
     "language": "python",
     "metadata": {},
     "outputs": [],
     "prompt_number": 100
    },
    {
     "cell_type": "code",
     "collapsed": false,
     "input": [
      "df2"
     ],
     "language": "python",
     "metadata": {},
     "outputs": [
      {
       "html": [
        "<div style=\"max-height:1000px;max-width:1500px;overflow:auto;\">\n",
        "<table border=\"1\" class=\"dataframe\">\n",
        "  <thead>\n",
        "    <tr style=\"text-align: right;\">\n",
        "      <th></th>\n",
        "      <th>A</th>\n",
        "      <th>B</th>\n",
        "      <th>C</th>\n",
        "      <th>D</th>\n",
        "      <th>F</th>\n",
        "    </tr>\n",
        "  </thead>\n",
        "  <tbody>\n",
        "    <tr>\n",
        "      <th>2013-01-01</th>\n",
        "      <td> 0.000000</td>\n",
        "      <td> 0.000000</td>\n",
        "      <td>-0.341203</td>\n",
        "      <td>-5</td>\n",
        "      <td>NaN</td>\n",
        "    </tr>\n",
        "    <tr>\n",
        "      <th>2013-01-02</th>\n",
        "      <td>-0.459239</td>\n",
        "      <td>-0.020161</td>\n",
        "      <td>-0.761153</td>\n",
        "      <td>-5</td>\n",
        "      <td> -1</td>\n",
        "    </tr>\n",
        "    <tr>\n",
        "      <th>2013-01-03</th>\n",
        "      <td>-0.866140</td>\n",
        "      <td>-0.194305</td>\n",
        "      <td>-0.855781</td>\n",
        "      <td>-5</td>\n",
        "      <td> -2</td>\n",
        "    </tr>\n",
        "    <tr>\n",
        "      <th>2013-01-04</th>\n",
        "      <td>-0.722176</td>\n",
        "      <td>-0.967375</td>\n",
        "      <td>-0.587062</td>\n",
        "      <td>-5</td>\n",
        "      <td> -3</td>\n",
        "    </tr>\n",
        "    <tr>\n",
        "      <th>2013-01-05</th>\n",
        "      <td>-0.232301</td>\n",
        "      <td>-0.035282</td>\n",
        "      <td>-0.277799</td>\n",
        "      <td>-5</td>\n",
        "      <td> -4</td>\n",
        "    </tr>\n",
        "    <tr>\n",
        "      <th>2013-01-06</th>\n",
        "      <td>-0.084703</td>\n",
        "      <td>-0.019913</td>\n",
        "      <td>-0.921164</td>\n",
        "      <td>-5</td>\n",
        "      <td> -5</td>\n",
        "    </tr>\n",
        "  </tbody>\n",
        "</table>\n",
        "</div>"
       ],
       "metadata": {},
       "output_type": "pyout",
       "prompt_number": 101,
       "text": [
        "                   A         B         C  D   F\n",
        "2013-01-01  0.000000  0.000000 -0.341203 -5 NaN\n",
        "2013-01-02 -0.459239 -0.020161 -0.761153 -5  -1\n",
        "2013-01-03 -0.866140 -0.194305 -0.855781 -5  -2\n",
        "2013-01-04 -0.722176 -0.967375 -0.587062 -5  -3\n",
        "2013-01-05 -0.232301 -0.035282 -0.277799 -5  -4\n",
        "2013-01-06 -0.084703 -0.019913 -0.921164 -5  -5"
       ]
      }
     ],
     "prompt_number": 101
    },
    {
     "cell_type": "code",
     "collapsed": false,
     "input": [
      "df1=df.reindex(index=dates[0:4],columns=list(df.columns)+['E'])"
     ],
     "language": "python",
     "metadata": {},
     "outputs": [],
     "prompt_number": 106
    },
    {
     "cell_type": "code",
     "collapsed": false,
     "input": [
      "df1.loc[dates[0]:dates[1],'E']"
     ],
     "language": "python",
     "metadata": {},
     "outputs": [
      {
       "metadata": {},
       "output_type": "pyout",
       "prompt_number": 108,
       "text": [
        "2013-01-01   NaN\n",
        "2013-01-02   NaN\n",
        "Freq: D, Name: E, dtype: float64"
       ]
      }
     ],
     "prompt_number": 108
    },
    {
     "cell_type": "code",
     "collapsed": false,
     "input": [
      "df1"
     ],
     "language": "python",
     "metadata": {},
     "outputs": [
      {
       "html": [
        "<div style=\"max-height:1000px;max-width:1500px;overflow:auto;\">\n",
        "<table border=\"1\" class=\"dataframe\">\n",
        "  <thead>\n",
        "    <tr style=\"text-align: right;\">\n",
        "      <th></th>\n",
        "      <th>A</th>\n",
        "      <th>B</th>\n",
        "      <th>C</th>\n",
        "      <th>D</th>\n",
        "      <th>F</th>\n",
        "      <th>E</th>\n",
        "    </tr>\n",
        "  </thead>\n",
        "  <tbody>\n",
        "    <tr>\n",
        "      <th>2013-01-01</th>\n",
        "      <td> 0.000000</td>\n",
        "      <td> 0.000000</td>\n",
        "      <td> 0.341203</td>\n",
        "      <td> 5</td>\n",
        "      <td>NaN</td>\n",
        "      <td>NaN</td>\n",
        "    </tr>\n",
        "    <tr>\n",
        "      <th>2013-01-02</th>\n",
        "      <td> 0.459239</td>\n",
        "      <td> 0.020161</td>\n",
        "      <td> 0.761153</td>\n",
        "      <td> 5</td>\n",
        "      <td>  1</td>\n",
        "      <td>NaN</td>\n",
        "    </tr>\n",
        "    <tr>\n",
        "      <th>2013-01-03</th>\n",
        "      <td> 0.866140</td>\n",
        "      <td> 0.194305</td>\n",
        "      <td> 0.855781</td>\n",
        "      <td> 5</td>\n",
        "      <td>  2</td>\n",
        "      <td>NaN</td>\n",
        "    </tr>\n",
        "    <tr>\n",
        "      <th>2013-01-04</th>\n",
        "      <td> 0.722176</td>\n",
        "      <td> 0.967375</td>\n",
        "      <td> 0.587062</td>\n",
        "      <td> 5</td>\n",
        "      <td>  3</td>\n",
        "      <td>NaN</td>\n",
        "    </tr>\n",
        "  </tbody>\n",
        "</table>\n",
        "</div>"
       ],
       "metadata": {},
       "output_type": "pyout",
       "prompt_number": 109,
       "text": [
        "                   A         B         C  D   F   E\n",
        "2013-01-01  0.000000  0.000000  0.341203  5 NaN NaN\n",
        "2013-01-02  0.459239  0.020161  0.761153  5   1 NaN\n",
        "2013-01-03  0.866140  0.194305  0.855781  5   2 NaN\n",
        "2013-01-04  0.722176  0.967375  0.587062  5   3 NaN"
       ]
      }
     ],
     "prompt_number": 109
    },
    {
     "cell_type": "code",
     "collapsed": false,
     "input": [
      "df"
     ],
     "language": "python",
     "metadata": {},
     "outputs": [
      {
       "html": [
        "<div style=\"max-height:1000px;max-width:1500px;overflow:auto;\">\n",
        "<table border=\"1\" class=\"dataframe\">\n",
        "  <thead>\n",
        "    <tr style=\"text-align: right;\">\n",
        "      <th></th>\n",
        "      <th>A</th>\n",
        "      <th>B</th>\n",
        "      <th>C</th>\n",
        "      <th>D</th>\n",
        "      <th>F</th>\n",
        "    </tr>\n",
        "  </thead>\n",
        "  <tbody>\n",
        "    <tr>\n",
        "      <th>2013-01-01</th>\n",
        "      <td> 0.000000</td>\n",
        "      <td> 0.000000</td>\n",
        "      <td> 0.341203</td>\n",
        "      <td> 5</td>\n",
        "      <td>NaN</td>\n",
        "    </tr>\n",
        "    <tr>\n",
        "      <th>2013-01-02</th>\n",
        "      <td> 0.459239</td>\n",
        "      <td> 0.020161</td>\n",
        "      <td> 0.761153</td>\n",
        "      <td> 5</td>\n",
        "      <td>  1</td>\n",
        "    </tr>\n",
        "    <tr>\n",
        "      <th>2013-01-03</th>\n",
        "      <td> 0.866140</td>\n",
        "      <td> 0.194305</td>\n",
        "      <td> 0.855781</td>\n",
        "      <td> 5</td>\n",
        "      <td>  2</td>\n",
        "    </tr>\n",
        "    <tr>\n",
        "      <th>2013-01-04</th>\n",
        "      <td> 0.722176</td>\n",
        "      <td> 0.967375</td>\n",
        "      <td> 0.587062</td>\n",
        "      <td> 5</td>\n",
        "      <td>  3</td>\n",
        "    </tr>\n",
        "    <tr>\n",
        "      <th>2013-01-05</th>\n",
        "      <td> 0.232301</td>\n",
        "      <td> 0.035282</td>\n",
        "      <td> 0.277799</td>\n",
        "      <td> 5</td>\n",
        "      <td>  4</td>\n",
        "    </tr>\n",
        "    <tr>\n",
        "      <th>2013-01-06</th>\n",
        "      <td> 0.084703</td>\n",
        "      <td> 0.019913</td>\n",
        "      <td> 0.921164</td>\n",
        "      <td> 5</td>\n",
        "      <td>  5</td>\n",
        "    </tr>\n",
        "  </tbody>\n",
        "</table>\n",
        "</div>"
       ],
       "metadata": {},
       "output_type": "pyout",
       "prompt_number": 113,
       "text": [
        "                   A         B         C  D   F\n",
        "2013-01-01  0.000000  0.000000  0.341203  5 NaN\n",
        "2013-01-02  0.459239  0.020161  0.761153  5   1\n",
        "2013-01-03  0.866140  0.194305  0.855781  5   2\n",
        "2013-01-04  0.722176  0.967375  0.587062  5   3\n",
        "2013-01-05  0.232301  0.035282  0.277799  5   4\n",
        "2013-01-06  0.084703  0.019913  0.921164  5   5"
       ]
      }
     ],
     "prompt_number": 113
    },
    {
     "cell_type": "code",
     "collapsed": false,
     "input": [
      "df.mean()"
     ],
     "language": "python",
     "metadata": {},
     "outputs": [
      {
       "metadata": {},
       "output_type": "pyout",
       "prompt_number": 114,
       "text": [
        "A    0.394093\n",
        "B    0.206173\n",
        "C    0.624027\n",
        "D    5.000000\n",
        "F    3.000000\n",
        "dtype: float64"
       ]
      }
     ],
     "prompt_number": 114
    },
    {
     "cell_type": "code",
     "collapsed": false,
     "input": [
      "df.mean(1)"
     ],
     "language": "python",
     "metadata": {},
     "outputs": [
      {
       "metadata": {},
       "output_type": "pyout",
       "prompt_number": 115,
       "text": [
        "2013-01-01    1.335301\n",
        "2013-01-02    1.448110\n",
        "2013-01-03    1.783245\n",
        "2013-01-04    2.055323\n",
        "2013-01-05    1.909076\n",
        "2013-01-06    2.205156\n",
        "Freq: D, dtype: float64"
       ]
      }
     ],
     "prompt_number": 115
    },
    {
     "cell_type": "code",
     "collapsed": false,
     "input": [],
     "language": "python",
     "metadata": {},
     "outputs": []
    }
   ],
   "metadata": {}
  }
 ]
}